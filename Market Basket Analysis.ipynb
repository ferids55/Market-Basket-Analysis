{
 "cells": [
  {
   "cell_type": "markdown",
   "metadata": {},
   "source": [
    "# Market Basket Analysis in Python"
   ]
  },
  {
   "cell_type": "markdown",
   "metadata": {
    "_cell_guid": "79c7e3d0-c299-4dcb-8224-4455121ee9b0",
    "_uuid": "d629ff2d2480ee46fbb7e2d37f6b5fab8052498a"
   },
   "source": [
    "**DQLab Fashion** adalah sebuah toko fashion yang menjual berbagai produk seperti jeans, kemeja, kosmetik, dan lain-lain. Walaupun cukup berkembang, namun dengan semakin banyaknya kompetitor dan banyak produk yang stoknya masih banyak tentunya membuat khawatir Pak Agus, manajer **DQLab Fashion**. Salah satu solusi adalah membuat paket yang inovatif. Dimana produk yang sebelumnya tidak terlalu laku tapi punya pangsa pasar malah bisa dipaketkan dan laku."
   ]
  },
  {
   "cell_type": "markdown",
   "metadata": {},
   "source": [
    "**Tujuan** :\n",
    "* Mendapatkan insight top 10 dan bottom 10 dari produk yang terjual.\n",
    "* Mendapatkan daftar seluruh kombinasi paket produk dengan korelasi yang kuat.\n",
    "* Mendapatkan daftar seluruh kombinasi paket produk dengan item tertentu."
   ]
  },
  {
   "cell_type": "code",
   "execution_count": 1,
   "metadata": {
    "_cell_guid": "b1076dfc-b9ad-4769-8c92-a6c4dae69d19",
    "_uuid": "8f2839f25d086af736a60e9eeb907d3b93b6e0e5"
   },
   "outputs": [],
   "source": [
    "import numpy as np\n",
    "import pandas as pd\n",
    "import matplotlib.pyplot as plt\n",
    "import seaborn as sns\n",
    "%matplotlib inline\n",
    "sns.set_style('darkgrid')\n",
    "\n",
    "import warnings\n",
    "warnings.filterwarnings('ignore')"
   ]
  },
  {
   "cell_type": "code",
   "execution_count": 2,
   "metadata": {},
   "outputs": [
    {
     "data": {
      "text/html": [
       "<div>\n",
       "<style scoped>\n",
       "    .dataframe tbody tr th:only-of-type {\n",
       "        vertical-align: middle;\n",
       "    }\n",
       "\n",
       "    .dataframe tbody tr th {\n",
       "        vertical-align: top;\n",
       "    }\n",
       "\n",
       "    .dataframe thead th {\n",
       "        text-align: right;\n",
       "    }\n",
       "</style>\n",
       "<table border=\"1\" class=\"dataframe\">\n",
       "  <thead>\n",
       "    <tr style=\"text-align: right;\">\n",
       "      <th></th>\n",
       "      <th>Kode Transaksi</th>\n",
       "      <th>Nama Barang</th>\n",
       "    </tr>\n",
       "  </thead>\n",
       "  <tbody>\n",
       "    <tr>\n",
       "      <th>0</th>\n",
       "      <td>#1</td>\n",
       "      <td>Kaos</td>\n",
       "    </tr>\n",
       "    <tr>\n",
       "      <th>1</th>\n",
       "      <td>#1</td>\n",
       "      <td>Shampo Biasa</td>\n",
       "    </tr>\n",
       "    <tr>\n",
       "      <th>2</th>\n",
       "      <td>#1</td>\n",
       "      <td>Sepatu Sport merk Z</td>\n",
       "    </tr>\n",
       "    <tr>\n",
       "      <th>3</th>\n",
       "      <td>#1</td>\n",
       "      <td>Serum Vitamin</td>\n",
       "    </tr>\n",
       "    <tr>\n",
       "      <th>4</th>\n",
       "      <td>#1</td>\n",
       "      <td>Baju Renang Pria Dewasa</td>\n",
       "    </tr>\n",
       "  </tbody>\n",
       "</table>\n",
       "</div>"
      ],
      "text/plain": [
       "  Kode Transaksi              Nama Barang\n",
       "0             #1                     Kaos\n",
       "1             #1             Shampo Biasa\n",
       "2             #1      Sepatu Sport merk Z\n",
       "3             #1            Serum Vitamin\n",
       "4             #1  Baju Renang Pria Dewasa"
      ]
     },
     "execution_count": 2,
     "metadata": {},
     "output_type": "execute_result"
    }
   ],
   "source": [
    "# import dataset\n",
    "fashion = pd.read_csv('transaksi_dqlab_retail.tsv', sep='\\t')\n",
    "# print first five rows\n",
    "fashion.head()"
   ]
  },
  {
   "cell_type": "code",
   "execution_count": 3,
   "metadata": {},
   "outputs": [
    {
     "name": "stdout",
     "output_type": "stream",
     "text": [
      "DQLab Fashion Data terdiri dari 33668 baris dan 2 kolom\n"
     ]
    }
   ],
   "source": [
    "# check dimension\n",
    "print(f\"DQLab Fashion Data terdiri dari {fashion.shape[0]} baris dan {fashion.shape[1]} kolom\")"
   ]
  },
  {
   "cell_type": "code",
   "execution_count": 4,
   "metadata": {},
   "outputs": [
    {
     "name": "stdout",
     "output_type": "stream",
     "text": [
      "<class 'pandas.core.frame.DataFrame'>\n",
      "RangeIndex: 33668 entries, 0 to 33667\n",
      "Data columns (total 2 columns):\n",
      " #   Column          Non-Null Count  Dtype \n",
      "---  ------          --------------  ----- \n",
      " 0   Kode Transaksi  33668 non-null  object\n",
      " 1   Nama Barang     33668 non-null  object\n",
      "dtypes: object(2)\n",
      "memory usage: 526.2+ KB\n"
     ]
    }
   ],
   "source": [
    "# chcek info data\n",
    "fashion.info()"
   ]
  },
  {
   "cell_type": "markdown",
   "metadata": {},
   "source": [
    "Tidak ditemukan *missing values* dan format data sudah sesuai."
   ]
  },
  {
   "cell_type": "code",
   "execution_count": 5,
   "metadata": {},
   "outputs": [
    {
     "name": "stdout",
     "output_type": "stream",
     "text": [
      "Jumlah transaksi unik adalah 3450\n"
     ]
    }
   ],
   "source": [
    "print(\"Jumlah transaksi unik adalah\", fashion['Kode Transaksi'].nunique())"
   ]
  },
  {
   "cell_type": "code",
   "execution_count": 6,
   "metadata": {},
   "outputs": [
    {
     "name": "stdout",
     "output_type": "stream",
     "text": [
      "Jumlah produk unik adalah 69\n"
     ]
    }
   ],
   "source": [
    "# cek jumlah produk dari transaksi\n",
    "print(\"Jumlah produk unik adalah\", fashion['Nama Barang'].nunique())"
   ]
  },
  {
   "cell_type": "code",
   "execution_count": 7,
   "metadata": {},
   "outputs": [
    {
     "name": "stdout",
     "output_type": "stream",
     "text": [
      "Berikut ini adalah list produk yang telah terjual :\n"
     ]
    },
    {
     "data": {
      "text/plain": [
       "array(['Kaos', 'Shampo Biasa', 'Sepatu Sport merk Z', 'Serum Vitamin',\n",
       "       'Baju Renang Pria Dewasa', 'Baju Renang Wanita Dewasa',\n",
       "       'Baju Kaos Olahraga', 'Celana Jogger Casual', 'Dompet Card Holder',\n",
       "       'Celana Jeans Sobek Wanita', 'Blouse Denim', 'Baju Batik Wanita',\n",
       "       'Hair and Scalp', 'Minyak Rambut', 'Wedges Hitam',\n",
       "       'Sepatu Sandal Anak', 'Tas Sekolah Anak Perempuan',\n",
       "       'Baju Kemeja Putih', 'Dompet Flip Cover', 'Hair Tonic',\n",
       "       'Baju Kaos Anak - Superheroes', 'Celana Pendek Casual',\n",
       "       'Jeans Jumbo', 'Celana Pendek Jeans', 'Sepatu Sekolah Hitam W',\n",
       "       'Tas Ransel Mini', 'Dompet Kulit Pria', 'Hair Dryer',\n",
       "       'Flat Shoes Ballerina', 'Tas Sekolah Anak Laki-laki',\n",
       "       'Cover Koper', 'Gembok Koper', 'Sweater Top Panjang', 'Tank Top',\n",
       "       'Atasan Kaos Putih', 'Atasan Baju Belang', 'Shampo Anti Dandruff',\n",
       "       'Tas Pinggang Wanita', 'Koper Fiber', 'Sepatu Sport merk Y',\n",
       "       'Dompet STNK Gantungan', 'Cream Whitening', 'Celana Tactical ',\n",
       "       'Woman Ripped Jeans ', 'Tas Travel', 'Tali Pinggang Anak',\n",
       "       'Dompet Unisex', 'Tali Pinggang Gesper Pria', 'Tas Waist Bag',\n",
       "       'Tas Tangan', 'Celana Pendek Green/Hijau', 'Obat Penumbuh Rambut',\n",
       "       'Pelembab', 'Baju Kaos Anak - Karakter Kartun',\n",
       "       'Sepatu Kulit Casual', 'Tas Makeup', 'Baju Renang Anak Perempuan',\n",
       "       'Kuas Makeup ', 'Sunblock Cream', 'Tas Kulit Selempang',\n",
       "       'Tas Multifungsi', 'Hair Dye', 'Celana Panjang Format Hitam',\n",
       "       'Celana Jeans Sobek Pria', 'Mascara', 'Tali Ban Ikat Pinggang',\n",
       "       'Stripe Pants', 'Tas Kosmetik', 'Baju Renang Pria Anak-anak'],\n",
       "      dtype=object)"
      ]
     },
     "execution_count": 7,
     "metadata": {},
     "output_type": "execute_result"
    }
   ],
   "source": [
    "print(\"Berikut ini adalah list produk yang telah terjual :\")\n",
    "fashion['Nama Barang'].unique()"
   ]
  },
  {
   "cell_type": "markdown",
   "metadata": {},
   "source": [
    "**Statistik Top 10**"
   ]
  },
  {
   "cell_type": "code",
   "execution_count": 8,
   "metadata": {},
   "outputs": [
    {
     "data": {
      "image/png": "[encoded data removed]",
      "text/plain": [
       "<Figure size 720x360 with 1 Axes>"
      ]
     },
     "metadata": {},
     "output_type": "display_data"
    }
   ],
   "source": [
    "top_10 = fashion['Nama Barang'].value_counts()[:10]\n",
    "plt.figure(figsize=(10,5))\n",
    "ax1 = sns.barplot(x=top_10, y=top_10.index, palette='rocket')\n",
    "for p1 in ax1.patches:\n",
    "    ax1.annotate('{:.2f}'.format(p1.get_width()/fashion['Kode Transaksi'].nunique()*100), \n",
    "                 xy=(p1.get_width()+0.5, p1.get_y()+0.4),\n",
    "                 ha='left', va='center', color= 'black')\n",
    "ax1.set_title('Statistik Top 10 Produk', fontweight='bold', fontsize=15)\n",
    "ax1.set_xlabel('Jumlah Transaksi')\n",
    "plt.show()"
   ]
  },
  {
   "cell_type": "markdown",
   "metadata": {},
   "source": [
    "**Statistik Bottom 10 Produk**"
   ]
  },
  {
   "cell_type": "code",
   "execution_count": 9,
   "metadata": {},
   "outputs": [
    {
     "data": {
      "image/png": "[encoded data removed]",
      "text/plain": [
       "<Figure size 720x360 with 1 Axes>"
      ]
     },
     "metadata": {},
     "output_type": "display_data"
    }
   ],
   "source": [
    "bottom_10 = fashion['Nama Barang'].value_counts()[-10:]\n",
    "plt.figure(figsize=(10,5))\n",
    "ax2 = sns.barplot(x=bottom_10, y=bottom_10.index, palette='rocket')\n",
    "for p2 in ax2.patches:\n",
    "    ax2.annotate('{:.2f}'.format(p2.get_width()/fashion['Kode Transaksi'].nunique()*100), \n",
    "                 xy=(p2.get_width()+0.5, p2.get_y()+0.4),\n",
    "                 ha='left', va='center', color= 'black')\n",
    "ax2.set_title('Statistik Bottom 10 Produk', fontweight='bold', fontsize=15)\n",
    "ax2.set_xlabel('Jumlah Transaksi')\n",
    "plt.show()"
   ]
  },
  {
   "cell_type": "markdown",
   "metadata": {},
   "source": [
    "Insights :\n",
    "* **Shampo Biasa** telah terjual sekitar 60,14% dari seluruh transaksi.\n",
    "* Hanya 0,26% **Celana Jeans Sobek Pria** yang terdapat pada keseluruhan transaksi."
   ]
  },
  {
   "cell_type": "code",
   "execution_count": 10,
   "metadata": {},
   "outputs": [
    {
     "data": {
      "text/plain": [
       "Kode Transaksi\n",
       "#1       [Kaos, Shampo Biasa, Sepatu Sport merk Z, Seru...\n",
       "#10      [Jeans Jumbo, Celana Pendek Jeans, Kaos, Baju ...\n",
       "#100     [Hair Dryer, Shampo Biasa, Hair Tonic, Sepatu ...\n",
       "#1000    [Celana Jeans Sobek Wanita, Celana Pendek Jean...\n",
       "#1001    [Hair Dryer, Wedges Hitam, Sepatu Sport merk Z...\n",
       "Name: Nama Barang, dtype: object"
      ]
     },
     "execution_count": 10,
     "metadata": {},
     "output_type": "execute_result"
    }
   ],
   "source": [
    "# grouping berdasarkan kode transaksi\n",
    "data = fashion.groupby('Kode Transaksi')['Nama Barang'].unique()\n",
    "data.head()"
   ]
  },
  {
   "cell_type": "code",
   "execution_count": 11,
   "metadata": {},
   "outputs": [
    {
     "data": {
      "text/plain": [
       "3450"
      ]
     },
     "execution_count": 11,
     "metadata": {},
     "output_type": "execute_result"
    }
   ],
   "source": [
    "# cek total transaksi\n",
    "list_transaksi = data.tolist()\n",
    "len(list_transaksi)"
   ]
  },
  {
   "cell_type": "code",
   "execution_count": 12,
   "metadata": {},
   "outputs": [
    {
     "name": "stdout",
     "output_type": "stream",
     "text": [
      "Median number of items in a transaction is 10\n",
      "Maximum number of items in a transaction is 22\n"
     ]
    }
   ],
   "source": [
    "# Hitung banyak produk per transaksi dari semua transaksi\n",
    "counts = [len(transaksi) for transaksi in list_transaksi]\n",
    "\n",
    "# Hitung nilai tengah jumlah produk pada sebuah transaksi\n",
    "print(\"Median number of items in a transaction is\", int(np.median(counts)))\n",
    "\n",
    "# Hitung nilai maksimum jumlah produk pada sebuah transaksi\n",
    "print(\"Maximum number of items in a transaction is\", np.max(counts))"
   ]
  },
  {
   "cell_type": "markdown",
   "metadata": {},
   "source": [
    "## Encoding Transactions"
   ]
  },
  {
   "cell_type": "code",
   "execution_count": 13,
   "metadata": {},
   "outputs": [
    {
     "data": {
      "text/html": [
       "<div>\n",
       "<style scoped>\n",
       "    .dataframe tbody tr th:only-of-type {\n",
       "        vertical-align: middle;\n",
       "    }\n",
       "\n",
       "    .dataframe tbody tr th {\n",
       "        vertical-align: top;\n",
       "    }\n",
       "\n",
       "    .dataframe thead th {\n",
       "        text-align: right;\n",
       "    }\n",
       "</style>\n",
       "<table border=\"1\" class=\"dataframe\">\n",
       "  <thead>\n",
       "    <tr style=\"text-align: right;\">\n",
       "      <th></th>\n",
       "      <th>Atasan Baju Belang</th>\n",
       "      <th>Atasan Kaos Putih</th>\n",
       "      <th>Baju Batik Wanita</th>\n",
       "      <th>Baju Kaos Anak - Karakter Kartun</th>\n",
       "      <th>Baju Kaos Anak - Superheroes</th>\n",
       "      <th>Baju Kaos Olahraga</th>\n",
       "      <th>Baju Kemeja Putih</th>\n",
       "      <th>Baju Renang Anak Perempuan</th>\n",
       "      <th>Baju Renang Pria Anak-anak</th>\n",
       "      <th>Baju Renang Pria Dewasa</th>\n",
       "      <th>...</th>\n",
       "      <th>Tas Multifungsi</th>\n",
       "      <th>Tas Pinggang Wanita</th>\n",
       "      <th>Tas Ransel Mini</th>\n",
       "      <th>Tas Sekolah Anak Laki-laki</th>\n",
       "      <th>Tas Sekolah Anak Perempuan</th>\n",
       "      <th>Tas Tangan</th>\n",
       "      <th>Tas Travel</th>\n",
       "      <th>Tas Waist Bag</th>\n",
       "      <th>Wedges Hitam</th>\n",
       "      <th>Woman Ripped Jeans</th>\n",
       "    </tr>\n",
       "  </thead>\n",
       "  <tbody>\n",
       "    <tr>\n",
       "      <th>0</th>\n",
       "      <td>False</td>\n",
       "      <td>False</td>\n",
       "      <td>False</td>\n",
       "      <td>False</td>\n",
       "      <td>False</td>\n",
       "      <td>True</td>\n",
       "      <td>False</td>\n",
       "      <td>False</td>\n",
       "      <td>False</td>\n",
       "      <td>True</td>\n",
       "      <td>...</td>\n",
       "      <td>False</td>\n",
       "      <td>False</td>\n",
       "      <td>False</td>\n",
       "      <td>False</td>\n",
       "      <td>False</td>\n",
       "      <td>False</td>\n",
       "      <td>False</td>\n",
       "      <td>False</td>\n",
       "      <td>False</td>\n",
       "      <td>False</td>\n",
       "    </tr>\n",
       "    <tr>\n",
       "      <th>1</th>\n",
       "      <td>False</td>\n",
       "      <td>False</td>\n",
       "      <td>True</td>\n",
       "      <td>False</td>\n",
       "      <td>False</td>\n",
       "      <td>False</td>\n",
       "      <td>True</td>\n",
       "      <td>False</td>\n",
       "      <td>False</td>\n",
       "      <td>False</td>\n",
       "      <td>...</td>\n",
       "      <td>False</td>\n",
       "      <td>False</td>\n",
       "      <td>False</td>\n",
       "      <td>False</td>\n",
       "      <td>False</td>\n",
       "      <td>False</td>\n",
       "      <td>False</td>\n",
       "      <td>False</td>\n",
       "      <td>True</td>\n",
       "      <td>False</td>\n",
       "    </tr>\n",
       "    <tr>\n",
       "      <th>2</th>\n",
       "      <td>False</td>\n",
       "      <td>False</td>\n",
       "      <td>False</td>\n",
       "      <td>False</td>\n",
       "      <td>False</td>\n",
       "      <td>False</td>\n",
       "      <td>False</td>\n",
       "      <td>False</td>\n",
       "      <td>False</td>\n",
       "      <td>False</td>\n",
       "      <td>...</td>\n",
       "      <td>False</td>\n",
       "      <td>False</td>\n",
       "      <td>False</td>\n",
       "      <td>False</td>\n",
       "      <td>False</td>\n",
       "      <td>False</td>\n",
       "      <td>False</td>\n",
       "      <td>False</td>\n",
       "      <td>False</td>\n",
       "      <td>False</td>\n",
       "    </tr>\n",
       "    <tr>\n",
       "      <th>3</th>\n",
       "      <td>False</td>\n",
       "      <td>False</td>\n",
       "      <td>True</td>\n",
       "      <td>False</td>\n",
       "      <td>False</td>\n",
       "      <td>False</td>\n",
       "      <td>False</td>\n",
       "      <td>False</td>\n",
       "      <td>False</td>\n",
       "      <td>True</td>\n",
       "      <td>...</td>\n",
       "      <td>False</td>\n",
       "      <td>False</td>\n",
       "      <td>False</td>\n",
       "      <td>False</td>\n",
       "      <td>False</td>\n",
       "      <td>False</td>\n",
       "      <td>False</td>\n",
       "      <td>False</td>\n",
       "      <td>False</td>\n",
       "      <td>False</td>\n",
       "    </tr>\n",
       "    <tr>\n",
       "      <th>4</th>\n",
       "      <td>False</td>\n",
       "      <td>False</td>\n",
       "      <td>False</td>\n",
       "      <td>False</td>\n",
       "      <td>False</td>\n",
       "      <td>False</td>\n",
       "      <td>False</td>\n",
       "      <td>False</td>\n",
       "      <td>False</td>\n",
       "      <td>True</td>\n",
       "      <td>...</td>\n",
       "      <td>False</td>\n",
       "      <td>False</td>\n",
       "      <td>False</td>\n",
       "      <td>True</td>\n",
       "      <td>False</td>\n",
       "      <td>False</td>\n",
       "      <td>True</td>\n",
       "      <td>False</td>\n",
       "      <td>True</td>\n",
       "      <td>False</td>\n",
       "    </tr>\n",
       "  </tbody>\n",
       "</table>\n",
       "<p>5 rows × 69 columns</p>\n",
       "</div>"
      ],
      "text/plain": [
       "   Atasan Baju Belang  Atasan Kaos Putih  Baju Batik Wanita  \\\n",
       "0               False              False              False   \n",
       "1               False              False               True   \n",
       "2               False              False              False   \n",
       "3               False              False               True   \n",
       "4               False              False              False   \n",
       "\n",
       "   Baju Kaos Anak - Karakter Kartun  Baju Kaos Anak - Superheroes  \\\n",
       "0                             False                         False   \n",
       "1                             False                         False   \n",
       "2                             False                         False   \n",
       "3                             False                         False   \n",
       "4                             False                         False   \n",
       "\n",
       "   Baju Kaos Olahraga  Baju Kemeja Putih  Baju Renang Anak Perempuan  \\\n",
       "0                True              False                       False   \n",
       "1               False               True                       False   \n",
       "2               False              False                       False   \n",
       "3               False              False                       False   \n",
       "4               False              False                       False   \n",
       "\n",
       "   Baju Renang Pria Anak-anak  Baju Renang Pria Dewasa  ...  Tas Multifungsi  \\\n",
       "0                       False                     True  ...            False   \n",
       "1                       False                    False  ...            False   \n",
       "2                       False                    False  ...            False   \n",
       "3                       False                     True  ...            False   \n",
       "4                       False                     True  ...            False   \n",
       "\n",
       "   Tas Pinggang Wanita  Tas Ransel Mini  Tas Sekolah Anak Laki-laki  \\\n",
       "0                False            False                       False   \n",
       "1                False            False                       False   \n",
       "2                False            False                       False   \n",
       "3                False            False                       False   \n",
       "4                False            False                        True   \n",
       "\n",
       "   Tas Sekolah Anak Perempuan  Tas Tangan  Tas Travel  Tas Waist Bag  \\\n",
       "0                       False       False       False          False   \n",
       "1                       False       False       False          False   \n",
       "2                       False       False       False          False   \n",
       "3                       False       False       False          False   \n",
       "4                       False       False        True          False   \n",
       "\n",
       "   Wedges Hitam  Woman Ripped Jeans   \n",
       "0         False                False  \n",
       "1          True                False  \n",
       "2         False                False  \n",
       "3         False                False  \n",
       "4          True                False  \n",
       "\n",
       "[5 rows x 69 columns]"
      ]
     },
     "execution_count": 13,
     "metadata": {},
     "output_type": "execute_result"
    }
   ],
   "source": [
    "# encoding produk pada sebuah list transaksi\n",
    "from mlxtend.preprocessing import TransactionEncoder\n",
    "\n",
    "encoder = TransactionEncoder()\n",
    "data_encode = encoder.fit(list_transaksi).transform(list_transaksi)\n",
    "df_encode = pd.DataFrame(data_encode, columns=encoder.columns_)\n",
    "df_encode.head()"
   ]
  },
  {
   "cell_type": "code",
   "execution_count": 14,
   "metadata": {},
   "outputs": [
    {
     "data": {
      "text/plain": [
       "Atasan Baju Belang                  0.016232\n",
       "Atasan Kaos Putih                   0.118841\n",
       "Baju Batik Wanita                   0.380290\n",
       "Baju Kaos Anak - Karakter Kartun    0.121159\n",
       "Baju Kaos Anak - Superheroes        0.115942\n",
       "                                      ...   \n",
       "Tas Tangan                          0.037101\n",
       "Tas Travel                          0.220870\n",
       "Tas Waist Bag                       0.161159\n",
       "Wedges Hitam                        0.246087\n",
       "Woman Ripped Jeans                  0.034203\n",
       "Length: 69, dtype: float64"
      ]
     },
     "execution_count": 14,
     "metadata": {},
     "output_type": "execute_result"
    }
   ],
   "source": [
    "# Hitung support metric pada tiap kolom\n",
    "df_encode.mean(axis=0)"
   ]
  },
  {
   "cell_type": "code",
   "execution_count": 15,
   "metadata": {},
   "outputs": [
    {
     "data": {
      "image/png": "[encoded data removed]",
      "text/plain": [
       "<Figure size 720x360 with 1 Axes>"
      ]
     },
     "metadata": {},
     "output_type": "display_data"
    }
   ],
   "source": [
    "# Plotting distribution of product counts\n",
    "distribusi = df_encode.sum(axis=1).value_counts().sort_index()\n",
    "plt.figure(figsize=(10,5))\n",
    "ax3 = sns.barplot(x=distribusi.index, y=distribusi, palette='Set2')\n",
    "for p3 in ax3.patches:\n",
    "    ax3.annotate('{:.0f}'.format(p3.get_height()), (p3.get_x()+0.4, p3.get_height()),\n",
    "                 ha='center', va='bottom', color= 'black')\n",
    "ax3.set_title('Distribusi Jumlah Produk per Transaksi', fontweight='bold', fontsize=15)\n",
    "ax3.set_xlabel('Jumlah Produk')\n",
    "ax3.set_ylabel('Jumlah Transaksi')\n",
    "plt.show()"
   ]
  },
  {
   "cell_type": "markdown",
   "metadata": {},
   "source": [
    "**Kombinasi Produk Menarik** :\n",
    "* Memiliki asosiasi atau hubungan erat.\n",
    "* Kombinasi produk minimal 2 item, dan maksimum 3 item.\n",
    "* Kombinasi produk itu muncul setidaknya 10 dari dari seluruh transaksi.\n",
    "* Memiliki tingkat confidence minimal 50 persen."
   ]
  },
  {
   "cell_type": "code",
   "execution_count": 16,
   "metadata": {},
   "outputs": [
    {
     "data": {
      "text/plain": [
       "0.002898550724637681"
      ]
     },
     "execution_count": 16,
     "metadata": {},
     "output_type": "execute_result"
    }
   ],
   "source": [
    "# setting transaksi berdasarkan kriteria menarik\n",
    "df_transaksi = df_encode[df_encode.sum(axis=1) >= 2]\n",
    "kriteria = 10 / len(list_transaksi)\n",
    "kriteria"
   ]
  },
  {
   "cell_type": "markdown",
   "metadata": {},
   "source": [
    "## Apriori Algorithm"
   ]
  },
  {
   "cell_type": "code",
   "execution_count": 17,
   "metadata": {},
   "outputs": [
    {
     "data": {
      "text/html": [
       "<div>\n",
       "<style scoped>\n",
       "    .dataframe tbody tr th:only-of-type {\n",
       "        vertical-align: middle;\n",
       "    }\n",
       "\n",
       "    .dataframe tbody tr th {\n",
       "        vertical-align: top;\n",
       "    }\n",
       "\n",
       "    .dataframe thead th {\n",
       "        text-align: right;\n",
       "    }\n",
       "</style>\n",
       "<table border=\"1\" class=\"dataframe\">\n",
       "  <thead>\n",
       "    <tr style=\"text-align: right;\">\n",
       "      <th></th>\n",
       "      <th>support</th>\n",
       "      <th>itemsets</th>\n",
       "    </tr>\n",
       "  </thead>\n",
       "  <tbody>\n",
       "    <tr>\n",
       "      <th>0</th>\n",
       "      <td>0.016274</td>\n",
       "      <td>(Atasan Baju Belang)</td>\n",
       "    </tr>\n",
       "    <tr>\n",
       "      <th>1</th>\n",
       "      <td>0.119151</td>\n",
       "      <td>(Atasan Kaos Putih)</td>\n",
       "    </tr>\n",
       "    <tr>\n",
       "      <th>2</th>\n",
       "      <td>0.380703</td>\n",
       "      <td>(Baju Batik Wanita)</td>\n",
       "    </tr>\n",
       "    <tr>\n",
       "      <th>3</th>\n",
       "      <td>0.121476</td>\n",
       "      <td>(Baju Kaos Anak - Karakter Kartun)</td>\n",
       "    </tr>\n",
       "    <tr>\n",
       "      <th>4</th>\n",
       "      <td>0.116245</td>\n",
       "      <td>(Baju Kaos Anak - Superheroes)</td>\n",
       "    </tr>\n",
       "    <tr>\n",
       "      <th>...</th>\n",
       "      <td>...</td>\n",
       "      <td>...</td>\n",
       "    </tr>\n",
       "    <tr>\n",
       "      <th>16214</th>\n",
       "      <td>0.006103</td>\n",
       "      <td>(Tas Waist Bag, Tas Sekolah Anak Laki-laki, Ta...</td>\n",
       "    </tr>\n",
       "    <tr>\n",
       "      <th>16215</th>\n",
       "      <td>0.008718</td>\n",
       "      <td>(Wedges Hitam, Tas Sekolah Anak Laki-laki, Tas...</td>\n",
       "    </tr>\n",
       "    <tr>\n",
       "      <th>16216</th>\n",
       "      <td>0.009300</td>\n",
       "      <td>(Wedges Hitam, Tas Waist Bag, Tas Sekolah Anak...</td>\n",
       "    </tr>\n",
       "    <tr>\n",
       "      <th>16217</th>\n",
       "      <td>0.012206</td>\n",
       "      <td>(Wedges Hitam, Tas Waist Bag, Tas Travel)</td>\n",
       "    </tr>\n",
       "    <tr>\n",
       "      <th>16218</th>\n",
       "      <td>0.003487</td>\n",
       "      <td>(Wedges Hitam, Woman Ripped Jeans , Tas Travel)</td>\n",
       "    </tr>\n",
       "  </tbody>\n",
       "</table>\n",
       "<p>16219 rows × 2 columns</p>\n",
       "</div>"
      ],
      "text/plain": [
       "        support                                           itemsets\n",
       "0      0.016274                               (Atasan Baju Belang)\n",
       "1      0.119151                                (Atasan Kaos Putih)\n",
       "2      0.380703                                (Baju Batik Wanita)\n",
       "3      0.121476                 (Baju Kaos Anak - Karakter Kartun)\n",
       "4      0.116245                     (Baju Kaos Anak - Superheroes)\n",
       "...         ...                                                ...\n",
       "16214  0.006103  (Tas Waist Bag, Tas Sekolah Anak Laki-laki, Ta...\n",
       "16215  0.008718  (Wedges Hitam, Tas Sekolah Anak Laki-laki, Tas...\n",
       "16216  0.009300  (Wedges Hitam, Tas Waist Bag, Tas Sekolah Anak...\n",
       "16217  0.012206          (Wedges Hitam, Tas Waist Bag, Tas Travel)\n",
       "16218  0.003487    (Wedges Hitam, Woman Ripped Jeans , Tas Travel)\n",
       "\n",
       "[16219 rows x 2 columns]"
      ]
     },
     "execution_count": 17,
     "metadata": {},
     "output_type": "execute_result"
    }
   ],
   "source": [
    "from mlxtend.frequent_patterns import apriori\n",
    "\n",
    "frekuensi_itemset = apriori(df_transaksi, min_support=kriteria, max_len=3, use_colnames=True)\n",
    "frekuensi_itemset"
   ]
  },
  {
   "cell_type": "markdown",
   "metadata": {},
   "source": [
    "## Association Rules"
   ]
  },
  {
   "cell_type": "code",
   "execution_count": 18,
   "metadata": {},
   "outputs": [
    {
     "data": {
      "text/html": [
       "<div>\n",
       "<style scoped>\n",
       "    .dataframe tbody tr th:only-of-type {\n",
       "        vertical-align: middle;\n",
       "    }\n",
       "\n",
       "    .dataframe tbody tr th {\n",
       "        vertical-align: top;\n",
       "    }\n",
       "\n",
       "    .dataframe thead th {\n",
       "        text-align: right;\n",
       "    }\n",
       "</style>\n",
       "<table border=\"1\" class=\"dataframe\">\n",
       "  <thead>\n",
       "    <tr style=\"text-align: right;\">\n",
       "      <th></th>\n",
       "      <th>antecedents</th>\n",
       "      <th>consequents</th>\n",
       "      <th>antecedent support</th>\n",
       "      <th>consequent support</th>\n",
       "      <th>support</th>\n",
       "      <th>confidence</th>\n",
       "      <th>lift</th>\n",
       "      <th>leverage</th>\n",
       "      <th>conviction</th>\n",
       "    </tr>\n",
       "  </thead>\n",
       "  <tbody>\n",
       "    <tr>\n",
       "      <th>0</th>\n",
       "      <td>(Atasan Baju Belang)</td>\n",
       "      <td>(Baju Batik Wanita)</td>\n",
       "      <td>0.016274</td>\n",
       "      <td>0.380703</td>\n",
       "      <td>0.005522</td>\n",
       "      <td>0.339286</td>\n",
       "      <td>0.891208</td>\n",
       "      <td>-0.000674</td>\n",
       "      <td>0.937314</td>\n",
       "    </tr>\n",
       "    <tr>\n",
       "      <th>1</th>\n",
       "      <td>(Baju Batik Wanita)</td>\n",
       "      <td>(Atasan Baju Belang)</td>\n",
       "      <td>0.380703</td>\n",
       "      <td>0.016274</td>\n",
       "      <td>0.005522</td>\n",
       "      <td>0.014504</td>\n",
       "      <td>0.891208</td>\n",
       "      <td>-0.000674</td>\n",
       "      <td>0.998203</td>\n",
       "    </tr>\n",
       "    <tr>\n",
       "      <th>2</th>\n",
       "      <td>(Atasan Baju Belang)</td>\n",
       "      <td>(Baju Kemeja Putih)</td>\n",
       "      <td>0.016274</td>\n",
       "      <td>0.364720</td>\n",
       "      <td>0.004940</td>\n",
       "      <td>0.303571</td>\n",
       "      <td>0.832342</td>\n",
       "      <td>-0.000995</td>\n",
       "      <td>0.912198</td>\n",
       "    </tr>\n",
       "    <tr>\n",
       "      <th>3</th>\n",
       "      <td>(Baju Kemeja Putih)</td>\n",
       "      <td>(Atasan Baju Belang)</td>\n",
       "      <td>0.364720</td>\n",
       "      <td>0.016274</td>\n",
       "      <td>0.004940</td>\n",
       "      <td>0.013546</td>\n",
       "      <td>0.832342</td>\n",
       "      <td>-0.000995</td>\n",
       "      <td>0.997234</td>\n",
       "    </tr>\n",
       "    <tr>\n",
       "      <th>4</th>\n",
       "      <td>(Blouse Denim)</td>\n",
       "      <td>(Atasan Baju Belang)</td>\n",
       "      <td>0.182796</td>\n",
       "      <td>0.016274</td>\n",
       "      <td>0.003487</td>\n",
       "      <td>0.019078</td>\n",
       "      <td>1.172269</td>\n",
       "      <td>0.000512</td>\n",
       "      <td>1.002858</td>\n",
       "    </tr>\n",
       "    <tr>\n",
       "      <th>...</th>\n",
       "      <td>...</td>\n",
       "      <td>...</td>\n",
       "      <td>...</td>\n",
       "      <td>...</td>\n",
       "      <td>...</td>\n",
       "      <td>...</td>\n",
       "      <td>...</td>\n",
       "      <td>...</td>\n",
       "      <td>...</td>\n",
       "    </tr>\n",
       "    <tr>\n",
       "      <th>75439</th>\n",
       "      <td>(Wedges Hitam, Tas Travel)</td>\n",
       "      <td>(Woman Ripped Jeans )</td>\n",
       "      <td>0.079628</td>\n",
       "      <td>0.034292</td>\n",
       "      <td>0.003487</td>\n",
       "      <td>0.043796</td>\n",
       "      <td>1.277125</td>\n",
       "      <td>0.000757</td>\n",
       "      <td>1.009939</td>\n",
       "    </tr>\n",
       "    <tr>\n",
       "      <th>75440</th>\n",
       "      <td>(Woman Ripped Jeans , Tas Travel)</td>\n",
       "      <td>(Wedges Hitam)</td>\n",
       "      <td>0.006684</td>\n",
       "      <td>0.246731</td>\n",
       "      <td>0.003487</td>\n",
       "      <td>0.521739</td>\n",
       "      <td>2.114611</td>\n",
       "      <td>0.001838</td>\n",
       "      <td>1.575018</td>\n",
       "    </tr>\n",
       "    <tr>\n",
       "      <th>75441</th>\n",
       "      <td>(Wedges Hitam)</td>\n",
       "      <td>(Woman Ripped Jeans , Tas Travel)</td>\n",
       "      <td>0.246731</td>\n",
       "      <td>0.006684</td>\n",
       "      <td>0.003487</td>\n",
       "      <td>0.014134</td>\n",
       "      <td>2.114611</td>\n",
       "      <td>0.001838</td>\n",
       "      <td>1.007557</td>\n",
       "    </tr>\n",
       "    <tr>\n",
       "      <th>75442</th>\n",
       "      <td>(Woman Ripped Jeans )</td>\n",
       "      <td>(Wedges Hitam, Tas Travel)</td>\n",
       "      <td>0.034292</td>\n",
       "      <td>0.079628</td>\n",
       "      <td>0.003487</td>\n",
       "      <td>0.101695</td>\n",
       "      <td>1.277125</td>\n",
       "      <td>0.000757</td>\n",
       "      <td>1.024565</td>\n",
       "    </tr>\n",
       "    <tr>\n",
       "      <th>75443</th>\n",
       "      <td>(Tas Travel)</td>\n",
       "      <td>(Wedges Hitam, Woman Ripped Jeans )</td>\n",
       "      <td>0.221447</td>\n",
       "      <td>0.014821</td>\n",
       "      <td>0.003487</td>\n",
       "      <td>0.015748</td>\n",
       "      <td>1.062529</td>\n",
       "      <td>0.000205</td>\n",
       "      <td>1.000942</td>\n",
       "    </tr>\n",
       "  </tbody>\n",
       "</table>\n",
       "<p>75444 rows × 9 columns</p>\n",
       "</div>"
      ],
      "text/plain": [
       "                             antecedents                          consequents  \\\n",
       "0                   (Atasan Baju Belang)                  (Baju Batik Wanita)   \n",
       "1                    (Baju Batik Wanita)                 (Atasan Baju Belang)   \n",
       "2                   (Atasan Baju Belang)                  (Baju Kemeja Putih)   \n",
       "3                    (Baju Kemeja Putih)                 (Atasan Baju Belang)   \n",
       "4                         (Blouse Denim)                 (Atasan Baju Belang)   \n",
       "...                                  ...                                  ...   \n",
       "75439         (Wedges Hitam, Tas Travel)                (Woman Ripped Jeans )   \n",
       "75440  (Woman Ripped Jeans , Tas Travel)                       (Wedges Hitam)   \n",
       "75441                     (Wedges Hitam)    (Woman Ripped Jeans , Tas Travel)   \n",
       "75442              (Woman Ripped Jeans )           (Wedges Hitam, Tas Travel)   \n",
       "75443                       (Tas Travel)  (Wedges Hitam, Woman Ripped Jeans )   \n",
       "\n",
       "       antecedent support  consequent support   support  confidence      lift  \\\n",
       "0                0.016274            0.380703  0.005522    0.339286  0.891208   \n",
       "1                0.380703            0.016274  0.005522    0.014504  0.891208   \n",
       "2                0.016274            0.364720  0.004940    0.303571  0.832342   \n",
       "3                0.364720            0.016274  0.004940    0.013546  0.832342   \n",
       "4                0.182796            0.016274  0.003487    0.019078  1.172269   \n",
       "...                   ...                 ...       ...         ...       ...   \n",
       "75439            0.079628            0.034292  0.003487    0.043796  1.277125   \n",
       "75440            0.006684            0.246731  0.003487    0.521739  2.114611   \n",
       "75441            0.246731            0.006684  0.003487    0.014134  2.114611   \n",
       "75442            0.034292            0.079628  0.003487    0.101695  1.277125   \n",
       "75443            0.221447            0.014821  0.003487    0.015748  1.062529   \n",
       "\n",
       "       leverage  conviction  \n",
       "0     -0.000674    0.937314  \n",
       "1     -0.000674    0.998203  \n",
       "2     -0.000995    0.912198  \n",
       "3     -0.000995    0.997234  \n",
       "4      0.000512    1.002858  \n",
       "...         ...         ...  \n",
       "75439  0.000757    1.009939  \n",
       "75440  0.001838    1.575018  \n",
       "75441  0.001838    1.007557  \n",
       "75442  0.000757    1.024565  \n",
       "75443  0.000205    1.000942  \n",
       "\n",
       "[75444 rows x 9 columns]"
      ]
     },
     "execution_count": 18,
     "metadata": {},
     "output_type": "execute_result"
    }
   ],
   "source": [
    "from mlxtend.frequent_patterns import association_rules\n",
    "\n",
    "# Recover association rules using metric lift\n",
    "rules = association_rules(frekuensi_itemset, metric = 'lift')\n",
    "rules"
   ]
  },
  {
   "cell_type": "code",
   "execution_count": 19,
   "metadata": {},
   "outputs": [
    {
     "data": {
      "text/html": [
       "<div>\n",
       "<style scoped>\n",
       "    .dataframe tbody tr th:only-of-type {\n",
       "        vertical-align: middle;\n",
       "    }\n",
       "\n",
       "    .dataframe tbody tr th {\n",
       "        vertical-align: top;\n",
       "    }\n",
       "\n",
       "    .dataframe thead th {\n",
       "        text-align: right;\n",
       "    }\n",
       "</style>\n",
       "<table border=\"1\" class=\"dataframe\">\n",
       "  <thead>\n",
       "    <tr style=\"text-align: right;\">\n",
       "      <th></th>\n",
       "      <th>antecedents</th>\n",
       "      <th>consequents</th>\n",
       "      <th>antecedent support</th>\n",
       "      <th>consequent support</th>\n",
       "      <th>support</th>\n",
       "      <th>confidence</th>\n",
       "      <th>lift</th>\n",
       "      <th>leverage</th>\n",
       "      <th>conviction</th>\n",
       "    </tr>\n",
       "  </thead>\n",
       "  <tbody>\n",
       "    <tr>\n",
       "      <th>0</th>\n",
       "      <td>(Tas Pinggang Wanita, Tas Makeup)</td>\n",
       "      <td>(Baju Renang Anak Perempuan)</td>\n",
       "      <td>0.011915</td>\n",
       "      <td>0.036036</td>\n",
       "      <td>0.010462</td>\n",
       "      <td>0.878049</td>\n",
       "      <td>24.365854</td>\n",
       "      <td>0.010033</td>\n",
       "      <td>7.904505</td>\n",
       "    </tr>\n",
       "    <tr>\n",
       "      <th>1</th>\n",
       "      <td>(Tas Travel, Tas Makeup)</td>\n",
       "      <td>(Baju Renang Anak Perempuan)</td>\n",
       "      <td>0.012496</td>\n",
       "      <td>0.036036</td>\n",
       "      <td>0.010171</td>\n",
       "      <td>0.813953</td>\n",
       "      <td>22.587209</td>\n",
       "      <td>0.009721</td>\n",
       "      <td>5.181306</td>\n",
       "    </tr>\n",
       "    <tr>\n",
       "      <th>2</th>\n",
       "      <td>(Tas Makeup, Tas Ransel Mini)</td>\n",
       "      <td>(Baju Renang Anak Perempuan)</td>\n",
       "      <td>0.015402</td>\n",
       "      <td>0.036036</td>\n",
       "      <td>0.011334</td>\n",
       "      <td>0.735849</td>\n",
       "      <td>20.419811</td>\n",
       "      <td>0.010779</td>\n",
       "      <td>3.649292</td>\n",
       "    </tr>\n",
       "    <tr>\n",
       "      <th>3</th>\n",
       "      <td>(Tas Pinggang Wanita, Sunblock Cream)</td>\n",
       "      <td>(Kuas Makeup )</td>\n",
       "      <td>0.023540</td>\n",
       "      <td>0.034292</td>\n",
       "      <td>0.016274</td>\n",
       "      <td>0.691358</td>\n",
       "      <td>20.160703</td>\n",
       "      <td>0.015467</td>\n",
       "      <td>3.128893</td>\n",
       "    </tr>\n",
       "    <tr>\n",
       "      <th>4</th>\n",
       "      <td>(Baju Renang Anak Perempuan, Tas Pinggang Wanita)</td>\n",
       "      <td>(Tas Makeup)</td>\n",
       "      <td>0.013078</td>\n",
       "      <td>0.040976</td>\n",
       "      <td>0.010462</td>\n",
       "      <td>0.800000</td>\n",
       "      <td>19.523404</td>\n",
       "      <td>0.009926</td>\n",
       "      <td>4.795118</td>\n",
       "    </tr>\n",
       "    <tr>\n",
       "      <th>5</th>\n",
       "      <td>(Baju Renang Anak Perempuan, Tas Ransel Mini)</td>\n",
       "      <td>(Tas Makeup)</td>\n",
       "      <td>0.014240</td>\n",
       "      <td>0.040976</td>\n",
       "      <td>0.011334</td>\n",
       "      <td>0.795918</td>\n",
       "      <td>19.423795</td>\n",
       "      <td>0.010750</td>\n",
       "      <td>4.699215</td>\n",
       "    </tr>\n",
       "    <tr>\n",
       "      <th>6</th>\n",
       "      <td>(Baju Renang Anak Perempuan, Celana Pendek Gre...</td>\n",
       "      <td>(Tas Makeup)</td>\n",
       "      <td>0.013078</td>\n",
       "      <td>0.040976</td>\n",
       "      <td>0.010171</td>\n",
       "      <td>0.777778</td>\n",
       "      <td>18.981087</td>\n",
       "      <td>0.009636</td>\n",
       "      <td>4.315606</td>\n",
       "    </tr>\n",
       "    <tr>\n",
       "      <th>7</th>\n",
       "      <td>(Tas Waist Bag, Tas Makeup)</td>\n",
       "      <td>(Baju Renang Anak Perempuan)</td>\n",
       "      <td>0.006393</td>\n",
       "      <td>0.036036</td>\n",
       "      <td>0.004359</td>\n",
       "      <td>0.681818</td>\n",
       "      <td>18.920455</td>\n",
       "      <td>0.004129</td>\n",
       "      <td>3.029601</td>\n",
       "    </tr>\n",
       "    <tr>\n",
       "      <th>8</th>\n",
       "      <td>(Celana Pendek Green/Hijau, Tas Makeup)</td>\n",
       "      <td>(Baju Renang Anak Perempuan)</td>\n",
       "      <td>0.015112</td>\n",
       "      <td>0.036036</td>\n",
       "      <td>0.010171</td>\n",
       "      <td>0.673077</td>\n",
       "      <td>18.677885</td>\n",
       "      <td>0.009627</td>\n",
       "      <td>2.948596</td>\n",
       "    </tr>\n",
       "    <tr>\n",
       "      <th>9</th>\n",
       "      <td>(Sunblock Cream, Dompet Flip Cover)</td>\n",
       "      <td>(Kuas Makeup )</td>\n",
       "      <td>0.025865</td>\n",
       "      <td>0.034292</td>\n",
       "      <td>0.016274</td>\n",
       "      <td>0.629213</td>\n",
       "      <td>18.348505</td>\n",
       "      <td>0.015387</td>\n",
       "      <td>2.604484</td>\n",
       "    </tr>\n",
       "  </tbody>\n",
       "</table>\n",
       "</div>"
      ],
      "text/plain": [
       "                                         antecedents  \\\n",
       "0                  (Tas Pinggang Wanita, Tas Makeup)   \n",
       "1                           (Tas Travel, Tas Makeup)   \n",
       "2                      (Tas Makeup, Tas Ransel Mini)   \n",
       "3              (Tas Pinggang Wanita, Sunblock Cream)   \n",
       "4  (Baju Renang Anak Perempuan, Tas Pinggang Wanita)   \n",
       "5      (Baju Renang Anak Perempuan, Tas Ransel Mini)   \n",
       "6  (Baju Renang Anak Perempuan, Celana Pendek Gre...   \n",
       "7                        (Tas Waist Bag, Tas Makeup)   \n",
       "8            (Celana Pendek Green/Hijau, Tas Makeup)   \n",
       "9                (Sunblock Cream, Dompet Flip Cover)   \n",
       "\n",
       "                    consequents  antecedent support  consequent support  \\\n",
       "0  (Baju Renang Anak Perempuan)            0.011915            0.036036   \n",
       "1  (Baju Renang Anak Perempuan)            0.012496            0.036036   \n",
       "2  (Baju Renang Anak Perempuan)            0.015402            0.036036   \n",
       "3                (Kuas Makeup )            0.023540            0.034292   \n",
       "4                  (Tas Makeup)            0.013078            0.040976   \n",
       "5                  (Tas Makeup)            0.014240            0.040976   \n",
       "6                  (Tas Makeup)            0.013078            0.040976   \n",
       "7  (Baju Renang Anak Perempuan)            0.006393            0.036036   \n",
       "8  (Baju Renang Anak Perempuan)            0.015112            0.036036   \n",
       "9                (Kuas Makeup )            0.025865            0.034292   \n",
       "\n",
       "    support  confidence       lift  leverage  conviction  \n",
       "0  0.010462    0.878049  24.365854  0.010033    7.904505  \n",
       "1  0.010171    0.813953  22.587209  0.009721    5.181306  \n",
       "2  0.011334    0.735849  20.419811  0.010779    3.649292  \n",
       "3  0.016274    0.691358  20.160703  0.015467    3.128893  \n",
       "4  0.010462    0.800000  19.523404  0.009926    4.795118  \n",
       "5  0.011334    0.795918  19.423795  0.010750    4.699215  \n",
       "6  0.010171    0.777778  18.981087  0.009636    4.315606  \n",
       "7  0.004359    0.681818  18.920455  0.004129    3.029601  \n",
       "8  0.010171    0.673077  18.677885  0.009627    2.948596  \n",
       "9  0.016274    0.629213  18.348505  0.015387    2.604484  "
      ]
     },
     "execution_count": 19,
     "metadata": {},
     "output_type": "execute_result"
    }
   ],
   "source": [
    "# pilih rules dengan nilai confindence 50% dan positif leverage\n",
    "result = rules[(rules['confidence'] >= 0.5) & (rules['leverage'] > 0)] \\\n",
    "                .sort_values(by='lift', ascending=False)[:10]\n",
    "result.reset_index(drop=True, inplace=True)\n",
    "result"
   ]
  },
  {
   "cell_type": "markdown",
   "metadata": {},
   "source": [
    "Insights :\n",
    "\n",
    "- Kombinasi **Tas Makeup dan Tas Pinggang Wanita terhadap Baju Renang Anak Perempuan** menghasilkan asosiasi atau hubungan yang paling erat dimana nilai confidence cukup tinggi diikuti metric lift."
   ]
  },
  {
   "cell_type": "markdown",
   "metadata": {},
   "source": [
    "## Slow Moving Product"
   ]
  },
  {
   "cell_type": "markdown",
   "metadata": {},
   "source": [
    "Slow Moving Product adalah produk yang memiliki tingkat penjualan relatif lama karena bisa dipengaruhi musiman."
   ]
  },
  {
   "cell_type": "code",
   "execution_count": 20,
   "metadata": {},
   "outputs": [],
   "source": [
    "# Item slow moving berdasarkan top 3 rules\n",
    "tas_makeup = rules[rules['consequents'] == {'Tas Makeup'}] \\\n",
    "             .sort_values(by='lift', ascending=False)[:3] \n",
    "baju_renang_pria = rules[rules['consequents'] == {'Baju Renang Pria Anak-anak'}] \\\n",
    "             .sort_values(by='lift', ascending=False)[:3]"
   ]
  },
  {
   "cell_type": "code",
   "execution_count": 21,
   "metadata": {},
   "outputs": [
    {
     "data": {
      "text/html": [
       "<div>\n",
       "<style scoped>\n",
       "    .dataframe tbody tr th:only-of-type {\n",
       "        vertical-align: middle;\n",
       "    }\n",
       "\n",
       "    .dataframe tbody tr th {\n",
       "        vertical-align: top;\n",
       "    }\n",
       "\n",
       "    .dataframe thead th {\n",
       "        text-align: right;\n",
       "    }\n",
       "</style>\n",
       "<table border=\"1\" class=\"dataframe\">\n",
       "  <thead>\n",
       "    <tr style=\"text-align: right;\">\n",
       "      <th></th>\n",
       "      <th>antecedents</th>\n",
       "      <th>consequents</th>\n",
       "      <th>antecedent support</th>\n",
       "      <th>consequent support</th>\n",
       "      <th>support</th>\n",
       "      <th>confidence</th>\n",
       "      <th>lift</th>\n",
       "      <th>leverage</th>\n",
       "      <th>conviction</th>\n",
       "    </tr>\n",
       "  </thead>\n",
       "  <tbody>\n",
       "    <tr>\n",
       "      <th>26580</th>\n",
       "      <td>(Baju Renang Anak Perempuan, Tas Pinggang Wanita)</td>\n",
       "      <td>(Tas Makeup)</td>\n",
       "      <td>0.013078</td>\n",
       "      <td>0.040976</td>\n",
       "      <td>0.010462</td>\n",
       "      <td>0.800000</td>\n",
       "      <td>19.523404</td>\n",
       "      <td>0.009926</td>\n",
       "      <td>4.795118</td>\n",
       "    </tr>\n",
       "    <tr>\n",
       "      <th>26586</th>\n",
       "      <td>(Baju Renang Anak Perempuan, Tas Ransel Mini)</td>\n",
       "      <td>(Tas Makeup)</td>\n",
       "      <td>0.014240</td>\n",
       "      <td>0.040976</td>\n",
       "      <td>0.011334</td>\n",
       "      <td>0.795918</td>\n",
       "      <td>19.423795</td>\n",
       "      <td>0.010750</td>\n",
       "      <td>4.699215</td>\n",
       "    </tr>\n",
       "    <tr>\n",
       "      <th>26156</th>\n",
       "      <td>(Baju Renang Anak Perempuan, Celana Pendek Gre...</td>\n",
       "      <td>(Tas Makeup)</td>\n",
       "      <td>0.013078</td>\n",
       "      <td>0.040976</td>\n",
       "      <td>0.010171</td>\n",
       "      <td>0.777778</td>\n",
       "      <td>18.981087</td>\n",
       "      <td>0.009636</td>\n",
       "      <td>4.315606</td>\n",
       "    </tr>\n",
       "    <tr>\n",
       "      <th>26716</th>\n",
       "      <td>(Gembok Koper, Tas Waist Bag)</td>\n",
       "      <td>(Baju Renang Pria Anak-anak)</td>\n",
       "      <td>0.014821</td>\n",
       "      <td>0.009300</td>\n",
       "      <td>0.004069</td>\n",
       "      <td>0.274510</td>\n",
       "      <td>29.518382</td>\n",
       "      <td>0.003931</td>\n",
       "      <td>1.365560</td>\n",
       "    </tr>\n",
       "    <tr>\n",
       "      <th>26691</th>\n",
       "      <td>(Flat Shoes Ballerina, Gembok Koper)</td>\n",
       "      <td>(Baju Renang Pria Anak-anak)</td>\n",
       "      <td>0.021796</td>\n",
       "      <td>0.009300</td>\n",
       "      <td>0.004069</td>\n",
       "      <td>0.186667</td>\n",
       "      <td>20.072500</td>\n",
       "      <td>0.003866</td>\n",
       "      <td>1.218074</td>\n",
       "    </tr>\n",
       "    <tr>\n",
       "      <th>26655</th>\n",
       "      <td>(Celana Jeans Sobek Wanita, Jeans Jumbo)</td>\n",
       "      <td>(Baju Renang Pria Anak-anak)</td>\n",
       "      <td>0.045626</td>\n",
       "      <td>0.009300</td>\n",
       "      <td>0.005522</td>\n",
       "      <td>0.121019</td>\n",
       "      <td>13.013336</td>\n",
       "      <td>0.005097</td>\n",
       "      <td>1.127101</td>\n",
       "    </tr>\n",
       "  </tbody>\n",
       "</table>\n",
       "</div>"
      ],
      "text/plain": [
       "                                             antecedents  \\\n",
       "26580  (Baju Renang Anak Perempuan, Tas Pinggang Wanita)   \n",
       "26586      (Baju Renang Anak Perempuan, Tas Ransel Mini)   \n",
       "26156  (Baju Renang Anak Perempuan, Celana Pendek Gre...   \n",
       "26716                      (Gembok Koper, Tas Waist Bag)   \n",
       "26691               (Flat Shoes Ballerina, Gembok Koper)   \n",
       "26655           (Celana Jeans Sobek Wanita, Jeans Jumbo)   \n",
       "\n",
       "                        consequents  antecedent support  consequent support  \\\n",
       "26580                  (Tas Makeup)            0.013078            0.040976   \n",
       "26586                  (Tas Makeup)            0.014240            0.040976   \n",
       "26156                  (Tas Makeup)            0.013078            0.040976   \n",
       "26716  (Baju Renang Pria Anak-anak)            0.014821            0.009300   \n",
       "26691  (Baju Renang Pria Anak-anak)            0.021796            0.009300   \n",
       "26655  (Baju Renang Pria Anak-anak)            0.045626            0.009300   \n",
       "\n",
       "        support  confidence       lift  leverage  conviction  \n",
       "26580  0.010462    0.800000  19.523404  0.009926    4.795118  \n",
       "26586  0.011334    0.795918  19.423795  0.010750    4.699215  \n",
       "26156  0.010171    0.777778  18.981087  0.009636    4.315606  \n",
       "26716  0.004069    0.274510  29.518382  0.003931    1.365560  \n",
       "26691  0.004069    0.186667  20.072500  0.003866    1.218074  \n",
       "26655  0.005522    0.121019  13.013336  0.005097    1.127101  "
      ]
     },
     "execution_count": 21,
     "metadata": {},
     "output_type": "execute_result"
    }
   ],
   "source": [
    "slow_moving = pd.concat([tas_makeup, baju_renang_pria])\n",
    "slow_moving"
   ]
  },
  {
   "cell_type": "markdown",
   "metadata": {},
   "source": [
    "Insights :\n",
    "* Terlihat pada item yang dipasangkan dengan **Tas Makeup** menghasilkan asosiasi atau hubungan yang cukup erat dimana nilai confidence yang tinggi diikuti metric lift. Selain itu dari ketiga rules yang terbentuk masing-masing terdapat produk **Baju Renang Anak Perempuan**. \n",
    "* Sedangkan item yang dipasangkan dengan **Baju Renang Pria Anak-anak** menghasilkan asosiasi atau hubungan yang tidak begitu erat dilihat dari nilai confidence yang rendah walaupun metric lift lebih tinggi."
   ]
  },
  {
   "cell_type": "markdown",
   "metadata": {},
   "source": [
    "## Kesimpulan\n",
    "* Produk **Tas Makeup, Tas Pinggang Wanita, dan Baju Renang Anak Perempuan** dapat diletakkan di area atau rak yang berdekatan agar memudahkan pembeli mengambilnya.\n",
    "* Produk **Tas Makeup, Tas Pinggang Wanita, dan Baju Renang Anak Perempuan** dapat dibuat promo diskon agar pembeli lebih tertarik membelinya."
   ]
  },
  {
   "cell_type": "code",
   "execution_count": null,
   "metadata": {},
   "outputs": [],
   "source": []
  }
 ],
 "metadata": {
  "interpreter": {
   "hash": "6c694c94340a4b6816f656d47afe5fe356089f858b1a9c7276cf43a688bc52d2"
  },
  "kernelspec": {
   "display_name": "Python 3.8.5 ('base')",
   "language": "python",
   "name": "python3"
  },
  "language_info": {
   "codemirror_mode": {
    "name": "ipython",
    "version": 3
   },
   "file_extension": ".py",
   "mimetype": "text/x-python",
   "name": "python",
   "nbconvert_exporter": "python",
   "pygments_lexer": "ipython3",
   "version": "3.8.5"
  }
 },
 "nbformat": 4,
 "nbformat_minor": 4
}
